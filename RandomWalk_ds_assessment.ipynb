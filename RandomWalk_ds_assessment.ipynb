{
 "cells": [
  {
   "cell_type": "code",
   "execution_count": 1,
   "id": "9d3376db",
   "metadata": {},
   "outputs": [],
   "source": [
    "import pandas as pd\n",
    "import numpy as np\n",
    "import matplotlib.pyplot as plt"
   ]
  },
  {
   "cell_type": "code",
   "execution_count": 2,
   "id": "ee249081",
   "metadata": {},
   "outputs": [],
   "source": [
    "df = pd.read_csv('books.csv')"
   ]
  },
  {
   "cell_type": "code",
   "execution_count": 3,
   "id": "9558fb82",
   "metadata": {},
   "outputs": [
    {
     "name": "stdout",
     "output_type": "stream",
     "text": [
      "<class 'pandas.core.frame.DataFrame'>\n",
      "RangeIndex: 399 entries, 0 to 398\n",
      "Data columns (total 24 columns):\n",
      " #   Column                     Non-Null Count  Dtype  \n",
      "---  ------                     --------------  -----  \n",
      " 0   book_id                    399 non-null    int64  \n",
      " 1   goodreads_book_id          399 non-null    int64  \n",
      " 2   best_book_id               399 non-null    int64  \n",
      " 3   work_id                    399 non-null    int64  \n",
      " 4   books_count                399 non-null    int64  \n",
      " 5   isbn                       388 non-null    object \n",
      " 6   isbn13                     389 non-null    float64\n",
      " 7   authors                    399 non-null    object \n",
      " 8   original_publication_year  399 non-null    float64\n",
      " 9   original_title             363 non-null    object \n",
      " 10  title                      399 non-null    object \n",
      " 11  language_code              356 non-null    object \n",
      " 12  average_rating             399 non-null    float64\n",
      " 13  ratings_count              399 non-null    int64  \n",
      " 14  work_ratings_count         399 non-null    int64  \n",
      " 15  work_text_reviews_count    399 non-null    int64  \n",
      " 16  ratings_1                  399 non-null    int64  \n",
      " 17  ratings_2                  399 non-null    int64  \n",
      " 18  ratings_3                  399 non-null    int64  \n",
      " 19  ratings_4                  399 non-null    int64  \n",
      " 20  ratings_5                  399 non-null    int64  \n",
      " 21  image_url                  399 non-null    object \n",
      " 22  small_image_url            399 non-null    object \n",
      " 23  NonEnglish                 399 non-null    int64  \n",
      "dtypes: float64(3), int64(14), object(7)\n",
      "memory usage: 74.9+ KB\n"
     ]
    }
   ],
   "source": [
    "df.info()"
   ]
  },
  {
   "cell_type": "code",
   "execution_count": 4,
   "id": "419f26d5",
   "metadata": {},
   "outputs": [
    {
     "data": {
      "text/plain": [
       "book_id                       0\n",
       "goodreads_book_id             0\n",
       "best_book_id                  0\n",
       "work_id                       0\n",
       "books_count                   0\n",
       "isbn                         11\n",
       "isbn13                       10\n",
       "authors                       0\n",
       "original_publication_year     0\n",
       "original_title               36\n",
       "title                         0\n",
       "language_code                43\n",
       "average_rating                0\n",
       "ratings_count                 0\n",
       "work_ratings_count            0\n",
       "work_text_reviews_count       0\n",
       "ratings_1                     0\n",
       "ratings_2                     0\n",
       "ratings_3                     0\n",
       "ratings_4                     0\n",
       "ratings_5                     0\n",
       "image_url                     0\n",
       "small_image_url               0\n",
       "NonEnglish                    0\n",
       "dtype: int64"
      ]
     },
     "execution_count": 4,
     "metadata": {},
     "output_type": "execute_result"
    }
   ],
   "source": [
    "df.isna().sum()"
   ]
  },
  {
   "cell_type": "code",
   "execution_count": 5,
   "id": "e8a3ae0d",
   "metadata": {},
   "outputs": [
    {
     "data": {
      "text/plain": [
       "0"
      ]
     },
     "execution_count": 5,
     "metadata": {},
     "output_type": "execute_result"
    }
   ],
   "source": [
    "df.duplicated().sum()"
   ]
  },
  {
   "cell_type": "code",
   "execution_count": 6,
   "id": "cb587613",
   "metadata": {},
   "outputs": [
    {
     "name": "stdout",
     "output_type": "stream",
     "text": [
      "Number of rows: 399\n",
      "Number of columns: 24\n"
     ]
    }
   ],
   "source": [
    "num_rows, num_columns = df.shape\n",
    "print(f\"Number of rows: {num_rows}\")\n",
    "print(f\"Number of columns: {num_columns}\")"
   ]
  },
  {
   "cell_type": "code",
   "execution_count": 7,
   "id": "0cc579ce",
   "metadata": {},
   "outputs": [
    {
     "name": "stdout",
     "output_type": "stream",
     "text": [
      "Number of books without an original title: 36\n"
     ]
    }
   ],
   "source": [
    "books_without_original_title = df[df['original_title'].isnull()].shape[0]\n",
    "print(f\"Number of books without an original title: {books_without_original_title}\")"
   ]
  },
  {
   "cell_type": "code",
   "execution_count": 8,
   "id": "d8a1347a",
   "metadata": {},
   "outputs": [
    {
     "name": "stdout",
     "output_type": "stream",
     "text": [
      "Number of unique books: 363\n"
     ]
    }
   ],
   "source": [
    "unique_books_count = df.dropna(subset=['original_title']).nunique()['book_id']\n",
    "print(f\"Number of unique books: {unique_books_count}\")"
   ]
  },
  {
   "cell_type": "code",
   "execution_count": 9,
   "id": "d2579bc8",
   "metadata": {},
   "outputs": [
    {
     "name": "stdout",
     "output_type": "stream",
     "text": [
      "Average rating of all books: 3.9837844611528843\n"
     ]
    }
   ],
   "source": [
    "average_rating = df['average_rating'].mean()\n",
    "print(f\"Average rating of all books: {average_rating}\")"
   ]
  },
  {
   "cell_type": "code",
   "execution_count": 10,
   "id": "73d55062",
   "metadata": {},
   "outputs": [
    {
     "name": "stdout",
     "output_type": "stream",
     "text": [
      "Number of books published in 2000: 8\n"
     ]
    }
   ],
   "source": [
    "books_published_in_2000 = df[df['original_publication_year'] == 2000].shape[0]\n",
    "print(f\"Number of books published in 2000: {books_published_in_2000}\")"
   ]
  },
  {
   "cell_type": "code",
   "execution_count": 11,
   "id": "1d5c83b1",
   "metadata": {},
   "outputs": [
    {
     "name": "stdout",
     "output_type": "stream",
     "text": [
      "Book with maximum ratings: The Diary of a Young Girl\n"
     ]
    }
   ],
   "source": [
    "max_ratings_book = df.loc[df['work_ratings_count'].idxmax()]['title']\n",
    "print(f\"Book with maximum ratings: {max_ratings_book}\")"
   ]
  },
  {
   "cell_type": "code",
   "execution_count": 12,
   "id": "0383a5a4",
   "metadata": {},
   "outputs": [
    {
     "data": {
      "image/png": "[encoded data removed]",
      "text/plain": [
       "<Figure size 432x288 with 1 Axes>"
      ]
     },
     "metadata": {
      "needs_background": "light"
     },
     "output_type": "display_data"
    }
   ],
   "source": [
    "rating_buckets = [0, 0.5, 1.0, 1.5, 2.0, 2.5, 3.0, 3.5, 4.0, 4.5, 5.0]\n",
    "df['rating_bucket'] = pd.cut(df['average_rating'], bins=rating_buckets, right=False)\n",
    "rating_counts = df['rating_bucket'].value_counts().sort_index()\n",
    "\n",
    "# Plotting\n",
    "rating_counts.plot(kind='bar', xlabel='Rating Bucket', ylabel='Number of Books', title='Number of Books in Each Rating Bucket')\n",
    "plt.show()"
   ]
  }
 ],
 "metadata": {
  "kernelspec": {
   "display_name": "Python 3",
   "language": "python",
   "name": "python3"
  },
  "language_info": {
   "codemirror_mode": {
    "name": "ipython",
    "version": 3
   },
   "file_extension": ".py",
   "mimetype": "text/x-python",
   "name": "python",
   "nbconvert_exporter": "python",
   "pygments_lexer": "ipython3",
   "version": "3.8.8"
  }
 },
 "nbformat": 4,
 "nbformat_minor": 5
}
